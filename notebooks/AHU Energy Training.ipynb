{
 "cells": [
  {
   "cell_type": "code",
   "execution_count": 2,
   "metadata": {},
   "outputs": [],
   "source": [
    "# including the project directory to the notebook level\n",
    "import os\n",
    "import sys\n",
    "module_path = os.path.abspath(os.path.join('..'))\n",
    "if module_path not in sys.path:\n",
    "    sys.path.append(module_path)"
   ]
  },
  {
   "cell_type": "code",
   "execution_count": 3,
   "metadata": {},
   "outputs": [
    {
     "name": "stderr",
     "output_type": "stream",
     "text": [
      "Using TensorFlow backend.\n",
      "/data/nauga/SmartBuildings/venvs/sbvenv1/lib/python3.6/site-packages/tensorflow/python/framework/dtypes.py:516: FutureWarning: Passing (type, 1) or '1type' as a synonym of type is deprecated; in a future version of numpy, it will be understood as (type, (1,)) / '(1,)type'.\n",
      "  _np_qint8 = np.dtype([(\"qint8\", np.int8, 1)])\n",
      "/data/nauga/SmartBuildings/venvs/sbvenv1/lib/python3.6/site-packages/tensorflow/python/framework/dtypes.py:517: FutureWarning: Passing (type, 1) or '1type' as a synonym of type is deprecated; in a future version of numpy, it will be understood as (type, (1,)) / '(1,)type'.\n",
      "  _np_quint8 = np.dtype([(\"quint8\", np.uint8, 1)])\n",
      "/data/nauga/SmartBuildings/venvs/sbvenv1/lib/python3.6/site-packages/tensorflow/python/framework/dtypes.py:518: FutureWarning: Passing (type, 1) or '1type' as a synonym of type is deprecated; in a future version of numpy, it will be understood as (type, (1,)) / '(1,)type'.\n",
      "  _np_qint16 = np.dtype([(\"qint16\", np.int16, 1)])\n",
      "/data/nauga/SmartBuildings/venvs/sbvenv1/lib/python3.6/site-packages/tensorflow/python/framework/dtypes.py:519: FutureWarning: Passing (type, 1) or '1type' as a synonym of type is deprecated; in a future version of numpy, it will be understood as (type, (1,)) / '(1,)type'.\n",
      "  _np_quint16 = np.dtype([(\"quint16\", np.uint16, 1)])\n",
      "/data/nauga/SmartBuildings/venvs/sbvenv1/lib/python3.6/site-packages/tensorflow/python/framework/dtypes.py:520: FutureWarning: Passing (type, 1) or '1type' as a synonym of type is deprecated; in a future version of numpy, it will be understood as (type, (1,)) / '(1,)type'.\n",
      "  _np_qint32 = np.dtype([(\"qint32\", np.int32, 1)])\n",
      "/data/nauga/SmartBuildings/venvs/sbvenv1/lib/python3.6/site-packages/tensorflow/python/framework/dtypes.py:525: FutureWarning: Passing (type, 1) or '1type' as a synonym of type is deprecated; in a future version of numpy, it will be understood as (type, (1,)) / '(1,)type'.\n",
      "  np_resource = np.dtype([(\"resource\", np.ubyte, 1)])\n",
      "/data/nauga/SmartBuildings/venvs/sbvenv1/lib/python3.6/site-packages/tensorboard/compat/tensorflow_stub/dtypes.py:541: FutureWarning: Passing (type, 1) or '1type' as a synonym of type is deprecated; in a future version of numpy, it will be understood as (type, (1,)) / '(1,)type'.\n",
      "  _np_qint8 = np.dtype([(\"qint8\", np.int8, 1)])\n",
      "/data/nauga/SmartBuildings/venvs/sbvenv1/lib/python3.6/site-packages/tensorboard/compat/tensorflow_stub/dtypes.py:542: FutureWarning: Passing (type, 1) or '1type' as a synonym of type is deprecated; in a future version of numpy, it will be understood as (type, (1,)) / '(1,)type'.\n",
      "  _np_quint8 = np.dtype([(\"quint8\", np.uint8, 1)])\n",
      "/data/nauga/SmartBuildings/venvs/sbvenv1/lib/python3.6/site-packages/tensorboard/compat/tensorflow_stub/dtypes.py:543: FutureWarning: Passing (type, 1) or '1type' as a synonym of type is deprecated; in a future version of numpy, it will be understood as (type, (1,)) / '(1,)type'.\n",
      "  _np_qint16 = np.dtype([(\"qint16\", np.int16, 1)])\n",
      "/data/nauga/SmartBuildings/venvs/sbvenv1/lib/python3.6/site-packages/tensorboard/compat/tensorflow_stub/dtypes.py:544: FutureWarning: Passing (type, 1) or '1type' as a synonym of type is deprecated; in a future version of numpy, it will be understood as (type, (1,)) / '(1,)type'.\n",
      "  _np_quint16 = np.dtype([(\"quint16\", np.uint16, 1)])\n",
      "/data/nauga/SmartBuildings/venvs/sbvenv1/lib/python3.6/site-packages/tensorboard/compat/tensorflow_stub/dtypes.py:545: FutureWarning: Passing (type, 1) or '1type' as a synonym of type is deprecated; in a future version of numpy, it will be understood as (type, (1,)) / '(1,)type'.\n",
      "  _np_qint32 = np.dtype([(\"qint32\", np.int32, 1)])\n",
      "/data/nauga/SmartBuildings/venvs/sbvenv1/lib/python3.6/site-packages/tensorboard/compat/tensorflow_stub/dtypes.py:550: FutureWarning: Passing (type, 1) or '1type' as a synonym of type is deprecated; in a future version of numpy, it will be understood as (type, (1,)) / '(1,)type'.\n",
      "  np_resource = np.dtype([(\"resource\", np.ubyte, 1)])\n"
     ]
    }
   ],
   "source": [
    "#importing modules\n",
    "from dataprocess import dataprocessor as dp\n",
    "from nn_source import models as mp"
   ]
  },
  {
   "cell_type": "code",
   "execution_count": 4,
   "metadata": {},
   "outputs": [],
   "source": [
    "# read the pickled file for ahu data\n",
    "ahudata = dp.readfile('../data/processed/ahu1energy.pkl')\n",
    "\n",
    "# return pickled df\n",
    "ahu = ahudata.return_df(processmethods=['file2df'])\n",
    "\n",
    "# read the pickled file for ghi data\n",
    "ghidata = dp.readfile('../data/processed/ghi.pkl')\n",
    "\n",
    "# return pickled df\n",
    "ghi = ghidata.return_df(processmethods=['file2df'])"
   ]
  },
  {
   "cell_type": "code",
   "execution_count": 5,
   "metadata": {},
   "outputs": [],
   "source": [
    "# selecting only required columns and rearranging them\n",
    "ahu = ahu[[\n",
    "    'AHU_1 outdoorAirTemp', 'WeatherDataProfile humidity',\n",
    "    'AHU_1 supplyAirTemp', 'HW_BTU_METER currentKbtuDeltaReading',\n",
    "    'CHW_BTU_METER currentKbtuDeltaReading'\n",
    "]]\n",
    "\n",
    "# renaming columns\n",
    "ahu.columns = ['oat', 'orh', 'sat', 'hwe', 'cwe']\n",
    "\n",
    "# Total energy is sum of heating and coling\n",
    "ahu['totale'] = ahu['hwe'] + ahu['cwe']\n",
    "# dropping heating and cooling energy columns\n",
    "ahu = ahu.drop(columns=['hwe', 'cwe'])"
   ]
  },
  {
   "cell_type": "code",
   "execution_count": 6,
   "metadata": {},
   "outputs": [],
   "source": [
    "# merging ahu and ghi data\n",
    "df = dp.merge_df_columns([ahu, ghi])\n",
    "\n",
    "# rearranging columns\n",
    "df = df[['oat', 'orh', 'sat', 'Ghi', 'totale']]"
   ]
  },
  {
   "cell_type": "code",
   "execution_count": 7,
   "metadata": {},
   "outputs": [],
   "source": [
    "dflist = dp.df2dflist(df, subsequence=True, period=1, days=7, hours=0)"
   ]
  },
  {
   "cell_type": "code",
   "execution_count": 8,
   "metadata": {},
   "outputs": [],
   "source": [
    "X_train, X_test, y_train, y_test, X_scaler, y_scaler = dp.df2arrays(\n",
    "    dflist[0],\n",
    "    predictorcols=['oat', 'orh', 'sat', 'Ghi'],\n",
    "    outputcols=['totale'],\n",
    "    scaling=True,\n",
    "    reshaping=True)"
   ]
  },
  {
   "cell_type": "code",
   "execution_count": 9,
   "metadata": {},
   "outputs": [
    {
     "name": "stdout",
     "output_type": "stream",
     "text": [
      "(1511, 1, 4)\n",
      "(504, 1, 4)\n",
      "(1511, 1, 1)\n",
      "(504, 1, 1)\n"
     ]
    }
   ],
   "source": [
    "for i in [X_train, X_test, y_train, y_test]:\n",
    "    print(i.shape)"
   ]
  },
  {
   "cell_type": "code",
   "execution_count": 10,
   "metadata": {},
   "outputs": [],
   "source": [
    "# create the results directory\n",
    "os.mkdir('../results/lstmtrain/')"
   ]
  },
  {
   "cell_type": "code",
   "execution_count": 11,
   "metadata": {},
   "outputs": [
    {
     "name": "stdout",
     "output_type": "stream",
     "text": [
      "WARNING:tensorflow:From /data/nauga/SmartBuildings/venvs/sbvenv1/lib/python3.6/site-packages/keras/backend/tensorflow_backend.py:517: The name tf.placeholder is deprecated. Please use tf.compat.v1.placeholder instead.\n",
      "\n",
      "WARNING:tensorflow:From /data/nauga/SmartBuildings/venvs/sbvenv1/lib/python3.6/site-packages/keras/backend/tensorflow_backend.py:74: The name tf.get_default_graph is deprecated. Please use tf.compat.v1.get_default_graph instead.\n",
      "\n",
      "WARNING:tensorflow:From /data/nauga/SmartBuildings/venvs/sbvenv1/lib/python3.6/site-packages/keras/backend/tensorflow_backend.py:4138: The name tf.random_uniform is deprecated. Please use tf.random.uniform instead.\n",
      "\n",
      "WARNING:tensorflow:From /data/nauga/SmartBuildings/venvs/sbvenv1/lib/python3.6/site-packages/keras/optimizers.py:790: The name tf.train.Optimizer is deprecated. Please use tf.compat.v1.train.Optimizer instead.\n",
      "\n"
     ]
    }
   ],
   "source": [
    "#Instantiate learner model\n",
    "model = mp.lstm_model('../results/lstmtrain/',\n",
    "                      inputdim=4,\n",
    "                      outputdim=1,\n",
    "                      period=1)\n",
    "\n",
    "# Desing model architecture\n",
    "model.design_model(lstmhiddenlayers=[64, 64], densehiddenlayers=[32])"
   ]
  },
  {
   "cell_type": "code",
   "execution_count": 12,
   "metadata": {},
   "outputs": [
    {
     "name": "stdout",
     "output_type": "stream",
     "text": [
      "_________________________________________________________________\n",
      "Layer (type)                 Output Shape              Param #   \n",
      "=================================================================\n",
      "input_layer (InputLayer)     (None, 1, 4)              0         \n",
      "_________________________________________________________________\n",
      "reshape_layer (Reshape)      (None, 4)                 0         \n",
      "_________________________________________________________________\n",
      "input_repeater (RepeatVector (None, 1, 4)              0         \n",
      "_________________________________________________________________\n",
      "lstm_1 (LSTM)                (None, 1, 64)             17664     \n",
      "_________________________________________________________________\n",
      "lstm_2 (LSTM)                (None, 1, 64)             33024     \n",
      "_________________________________________________________________\n",
      "dense_1 (Dense)              (None, 1, 32)             2080      \n",
      "_________________________________________________________________\n",
      "dense_2 (Dense)              (None, 1, 1)              33        \n",
      "=================================================================\n",
      "Total params: 52,801\n",
      "Trainable params: 52,801\n",
      "Non-trainable params: 0\n",
      "_________________________________________________________________\n",
      "None\n"
     ]
    }
   ],
   "source": [
    "model.show_model()"
   ]
  },
  {
   "cell_type": "code",
   "execution_count": 13,
   "metadata": {},
   "outputs": [],
   "source": [
    "model.model_callbacks()"
   ]
  },
  {
   "cell_type": "code",
   "execution_count": 14,
   "metadata": {
    "scrolled": false
   },
   "outputs": [
    {
     "name": "stdout",
     "output_type": "stream",
     "text": [
      "WARNING:tensorflow:From /data/nauga/SmartBuildings/venvs/sbvenv1/lib/python3.6/site-packages/tensorflow/python/ops/math_grad.py:1250: add_dispatch_support.<locals>.wrapper (from tensorflow.python.ops.array_ops) is deprecated and will be removed in a future version.\n",
      "Instructions for updating:\n",
      "Use tf.where in 2.0, which has the same broadcast rule as np.where\n",
      "WARNING:tensorflow:From /data/nauga/SmartBuildings/venvs/sbvenv1/lib/python3.6/site-packages/keras/backend/tensorflow_backend.py:986: The name tf.assign_add is deprecated. Please use tf.compat.v1.assign_add instead.\n",
      "\n",
      "WARNING:tensorflow:From /data/nauga/SmartBuildings/venvs/sbvenv1/lib/python3.6/site-packages/keras/backend/tensorflow_backend.py:973: The name tf.assign is deprecated. Please use tf.compat.v1.assign instead.\n",
      "\n",
      "Train on 1511 samples, validate on 504 samples\n",
      "Epoch 1/100\n",
      " - 2s - loss: 11.8625 - val_loss: 6.1256\n",
      "Epoch 2/100\n",
      " - 0s - loss: 3.4761 - val_loss: 1.5506\n",
      "Epoch 3/100\n",
      " - 0s - loss: 0.8201 - val_loss: 0.3313\n",
      "Epoch 4/100\n",
      " - 0s - loss: 0.1890 - val_loss: 0.0929\n",
      "Epoch 5/100\n",
      " - 0s - loss: 0.0756 - val_loss: 0.0562\n",
      "Epoch 6/100\n",
      " - 0s - loss: 0.0601 - val_loss: 0.0528\n",
      "Epoch 7/100\n",
      " - 0s - loss: 0.0582 - val_loss: 0.0518\n",
      "Epoch 8/100\n",
      " - 1s - loss: 0.0579 - val_loss: 0.0517\n",
      "Epoch 9/100\n",
      " - 0s - loss: 0.0580 - val_loss: 0.0519\n",
      "Epoch 10/100\n",
      " - 0s - loss: 0.0577 - val_loss: 0.0517\n",
      "Epoch 11/100\n",
      " - 0s - loss: 0.0279 - val_loss: 0.0153\n",
      "Epoch 12/100\n",
      " - 0s - loss: 0.0196 - val_loss: 0.0152\n",
      "Epoch 13/100\n",
      " - 1s - loss: 0.0194 - val_loss: 0.0154\n",
      "Epoch 14/100\n",
      " - 0s - loss: 0.0193 - val_loss: 0.0156\n",
      "Epoch 15/100\n",
      " - 0s - loss: 0.0163 - val_loss: 0.0119\n",
      "Epoch 16/100\n",
      " - 0s - loss: 0.0156 - val_loss: 0.0119\n",
      "Epoch 17/100\n",
      " - 0s - loss: 0.0156 - val_loss: 0.0120\n",
      "Epoch 18/100\n",
      " - 0s - loss: 0.0156 - val_loss: 0.0120\n",
      "Epoch 19/100\n",
      " - 0s - loss: 0.0153 - val_loss: 0.0116\n",
      "Epoch 20/100\n",
      " - 0s - loss: 0.0152 - val_loss: 0.0116\n",
      "Epoch 21/100\n",
      " - 0s - loss: 0.0152 - val_loss: 0.0116\n",
      "Epoch 22/100\n",
      " - 0s - loss: 0.0152 - val_loss: 0.0116\n",
      "Epoch 23/100\n",
      " - 0s - loss: 0.0152 - val_loss: 0.0116\n",
      "Epoch 24/100\n",
      " - 0s - loss: 0.0152 - val_loss: 0.0116\n",
      "Epoch 25/100\n",
      " - 0s - loss: 0.0152 - val_loss: 0.0116\n",
      "Epoch 26/100\n",
      " - 0s - loss: 0.0152 - val_loss: 0.0116\n",
      "Epoch 27/100\n",
      " - 0s - loss: 0.0152 - val_loss: 0.0116\n",
      "Epoch 28/100\n",
      " - 0s - loss: 0.0152 - val_loss: 0.0116\n",
      "Epoch 29/100\n",
      " - 0s - loss: 0.0152 - val_loss: 0.0116\n",
      "Epoch 30/100\n",
      " - 0s - loss: 0.0152 - val_loss: 0.0116\n",
      "Epoch 31/100\n",
      " - 0s - loss: 0.0152 - val_loss: 0.0116\n",
      "Epoch 32/100\n",
      " - 0s - loss: 0.0152 - val_loss: 0.0116\n",
      "Epoch 33/100\n",
      " - 0s - loss: 0.0152 - val_loss: 0.0116\n",
      "Epoch 34/100\n",
      " - 0s - loss: 0.0152 - val_loss: 0.0116\n",
      "Epoch 35/100\n",
      " - 0s - loss: 0.0152 - val_loss: 0.0116\n",
      "Epoch 36/100\n",
      " - 0s - loss: 0.0152 - val_loss: 0.0116\n",
      "Epoch 37/100\n",
      " - 0s - loss: 0.0152 - val_loss: 0.0116\n",
      "Epoch 38/100\n",
      " - 0s - loss: 0.0152 - val_loss: 0.0116\n",
      "Epoch 39/100\n",
      " - 0s - loss: 0.0152 - val_loss: 0.0116\n",
      "Epoch 40/100\n",
      " - 0s - loss: 0.0152 - val_loss: 0.0116\n",
      "Epoch 41/100\n",
      " - 0s - loss: 0.0152 - val_loss: 0.0116\n",
      "Epoch 42/100\n",
      " - 0s - loss: 0.0152 - val_loss: 0.0116\n",
      "Epoch 43/100\n",
      " - 0s - loss: 0.0152 - val_loss: 0.0116\n",
      "Epoch 44/100\n",
      " - 0s - loss: 0.0152 - val_loss: 0.0116\n",
      "Epoch 45/100\n",
      " - 0s - loss: 0.0152 - val_loss: 0.0116\n",
      "Epoch 46/100\n",
      " - 0s - loss: 0.0152 - val_loss: 0.0116\n",
      "Epoch 47/100\n",
      " - 0s - loss: 0.0152 - val_loss: 0.0116\n",
      "Epoch 48/100\n",
      " - 0s - loss: 0.0152 - val_loss: 0.0116\n"
     ]
    }
   ],
   "source": [
    "model.train_model(X_train, y_train, X_test, y_test)"
   ]
  },
  {
   "cell_type": "code",
   "execution_count": 15,
   "metadata": {},
   "outputs": [],
   "source": [
    "preds_train, preds_test = model.evaluate_model(X_train,\n",
    "                                                         y_train,\n",
    "                                                         X_test,\n",
    "                                                         y_test,\n",
    "                                                         y_scaler,\n",
    "                                                         saveplot=True)"
   ]
  },
  {
   "cell_type": "code",
   "execution_count": null,
   "metadata": {},
   "outputs": [],
   "source": []
  }
 ],
 "metadata": {
  "kernelspec": {
   "display_name": "Python 3.6.9 64-bit ('sbvenv1': venv)",
   "language": "python",
   "name": "python36964bitsbvenv1venv1a534851ebbc4d609aad5dcf7b359ab5"
  },
  "language_info": {
   "codemirror_mode": {
    "name": "ipython",
    "version": 3
   },
   "file_extension": ".py",
   "mimetype": "text/x-python",
   "name": "python",
   "nbconvert_exporter": "python",
   "pygments_lexer": "ipython3",
   "version": "3.6.9"
  }
 },
 "nbformat": 4,
 "nbformat_minor": 4
}
